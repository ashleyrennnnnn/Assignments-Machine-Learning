{
  "cells": [
    {
      "cell_type": "markdown",
      "metadata": {
        "id": "view-in-github",
        "colab_type": "text"
      },
      "source": [
        "<a href=\"https://colab.research.google.com/github/ashleyrennnnnn/Assignments-Machine-Learning/blob/main/Regression_model_part.ipynb\" target=\"_parent\"><img src=\"https://colab.research.google.com/assets/colab-badge.svg\" alt=\"Open In Colab\"/></a>"
      ]
    },
    {
      "cell_type": "code",
      "execution_count": null,
      "metadata": {
        "id": "BxAoGDzxj5-L"
      },
      "outputs": [],
      "source": [
        "import pandas as pd\n",
        "import numpy as np\n",
        "import matplotlib.pyplot as plt\n",
        "import seaborn as sb\n"
      ]
    },
    {
      "cell_type": "code",
      "execution_count": null,
      "metadata": {
        "id": "D-94d0krj5-O"
      },
      "outputs": [],
      "source": [
        "train_data = pd.read_csv(\"train-data.csv\", index_col=\"gwb_code_10\")\n",
        "test_data = pd.read_csv(\"test-data.csv\", index_col=\"gwb_code_10\")\n"
      ]
    },
    {
      "cell_type": "code",
      "execution_count": null,
      "metadata": {
        "id": "NEE13GDzHsLp"
      },
      "outputs": [],
      "source": [
        "X = train_data.drop([\"loneliness\", \"sporting\"], axis=1)\n",
        "y_loneliness = train_data[\"loneliness\"]\n",
        "y_sporting = train_data[\"sporting\"]\n",
        "\n",
        "X_test = test_data.drop([\"loneliness\", \"sporting\"], axis=1)\n",
        "y_test_loneliness = test_data[\"loneliness\"]\n",
        "y_test_sporting = test_data[\"sporting\"]\n"
      ]
    },
    {
      "cell_type": "markdown",
      "metadata": {
        "id": "I7T2bj1VHj3K"
      },
      "source": [
        "## Regression model\n"
      ]
    },
    {
      "cell_type": "markdown",
      "metadata": {
        "id": "Mb5o13k4KYoi"
      },
      "source": [
        "Ridge，Lasso，LinearRegression\n"
      ]
    },
    {
      "cell_type": "code",
      "execution_count": null,
      "metadata": {
        "id": "2RShHLsCucLN"
      },
      "outputs": [],
      "source": [
        "# The imputer that will be used in all models:\n",
        "from sklearn.experimental import enable_iterative_imputer\n",
        "from sklearn.impute import IterativeImputer\n",
        "from sklearn.neighbors import KNeighborsRegressor\n",
        "\n",
        "imputer = IterativeImputer(estimator=KNeighborsRegressor(n_neighbors=10), max_iter=20, tol=1e-3, random_state=100)\n",
        "X_pre_imputed = imputer.fit_transform(X)\n",
        "X_test_pre_imputed = imputer.transform(X_test)"
      ]
    },
    {
      "cell_type": "code",
      "execution_count": null,
      "metadata": {
        "id": "64YFYzSUHg5r"
      },
      "outputs": [],
      "source": [
        "from sklearn.linear_model import Ridge, LinearRegression, Lasso\n",
        "from sklearn.preprocessing import StandardScaler, MinMaxScaler\n",
        "from sklearn.pipeline import Pipeline\n",
        "from typing import Union\n",
        "from sklearn.model_selection import GridSearchCV, train_test_split\n",
        "from typing import Union, List, Dict\n",
        "from sklearn.metrics import mean_absolute_error, r2_score\n",
        "\n",
        "\n",
        "def grid_search_and_test(model: Pipeline, params: Dict[str, List[float]], target_variable: str = \"loneliness\", pre_imputed: bool = False) -> pd.DataFrame:\n",
        "    gsc = GridSearchCV(model, param_grid=params, n_jobs=3, error_score=0.0, verbose=3)\n",
        "\n",
        "    if target_variable == \"loneliness\":\n",
        "        y = y_loneliness\n",
        "        y_test = y_test_loneliness\n",
        "    elif target_variable == \"sporting\":\n",
        "        y = y_sporting\n",
        "        y_test = y_test_sporting\n",
        "    else:\n",
        "        raise ValueError(\"Wrong Target variable\")\n",
        "\n",
        "    if pre_imputed:\n",
        "        X_grid = X_pre_imputed\n",
        "        X_test_grid = X_test_pre_imputed\n",
        "    else:\n",
        "        X_grid = X\n",
        "        X_test_grid = X_test\n",
        "\n",
        "    gsc.fit(X_grid, y)\n",
        "    print(\"Best parameters found for the model:\", gsc.best_params_)\n",
        "    model.set_params(**gsc.best_params_)\n",
        "    model.fit(X_grid, y)\n",
        "\n",
        "    pred = model.predict(X_test_grid)\n",
        "    scores = {\n",
        "        \"Mean Absolute Error\": [mean_absolute_error(y_test, pred)],\n",
        "        \"R2 score\": [r2_score(y_test, pred)],\n",
        "    }\n",
        "    # Use this to see the top 5 results\n",
        "    # display(pd.DataFrame(gsc.cv_results_).sort_values(by=\"rank_test_score\").head(5))\n",
        "    return pd.DataFrame(scores)\n"
      ]
    },
    {
      "cell_type": "markdown",
      "metadata": {
        "id": "yu8KoaXtKhe3"
      },
      "source": [
        "For Loneliness\n"
      ]
    },
    {
      "cell_type": "code",
      "execution_count": null,
      "metadata": {
        "id": "hxd1cljGH1Ah"
      },
      "outputs": [],
      "source": [
        "# Thus the only thing that is needed to test all the models is to create a pipeline like this:\n",
        "ridge_pipe = Pipeline([(\"scaler\", StandardScaler()),(\"estimator\", Ridge(random_state=100))])\n",
        "\n",
        "# Then we need to create the \"grid\" with paramaters that we want to search through, so here different alphas\n",
        "params = {\"estimator__alpha\": np.logspace(-5,1,num=50)}\n",
        "\n",
        "# We can now call the function we defined above to get the df with the test results, and the best parameter\n",
        "# Make sure that you don't get a ridicoulus amounts of totalling fits, i.e > 1 000 as that might take way to much time!\n",
        "# Use pre_imputed = True to significantlly increase the time to run it. However, a small data leakage occurs then, but it is okay!\n",
        "ridge_result = grid_search_and_test(model=ridge_pipe, params=params, target_variable=\"loneliness\", pre_imputed=True)\n",
        "ridge_result"
      ]
    },
    {
      "cell_type": "code",
      "execution_count": null,
      "metadata": {
        "id": "a8nftSMm-QWw"
      },
      "outputs": [],
      "source": [
        "lasso_pipe = Pipeline([(\"scaler\", StandardScaler()),(\"estimator\", Lasso(random_state=100))])\n",
        "params = {\"estimator__alpha\": np.logspace(-5,1,num=50)}\n",
        "lasso_result = grid_search_and_test(model=lasso_pipe, params=params, target_variable=\"loneliness\", pre_imputed=True)\n",
        "lasso_result"
      ]
    },
    {
      "cell_type": "code",
      "execution_count": null,
      "metadata": {
        "id": "OKKJppOD-4YA"
      },
      "outputs": [],
      "source": [
        "lr_pipe = Pipeline([(\"scaler\", StandardScaler()),(\"estimator\", LinearRegression(n_jobs=-1))])\n",
        "params = { }\n",
        "lr_result = grid_search_and_test(model=lr_pipe, params=params, target_variable=\"loneliness\", pre_imputed=True)\n",
        "lr_result"
      ]
    },
    {
      "cell_type": "markdown",
      "metadata": {
        "id": "kZCWA7rcRSXx"
      },
      "source": [
        "For sport"
      ]
    },
    {
      "cell_type": "code",
      "execution_count": null,
      "metadata": {
        "id": "5pDcqZ87RaBt"
      },
      "outputs": [],
      "source": [
        "ridge_pipe = Pipeline([(\"scaler\", StandardScaler()),(\"estimator\", Ridge(random_state=100))])\n",
        "params = {\"estimator__alpha\": np.logspace(-5,1,num=50)}\n",
        "\n",
        "ridge_result = grid_search_and_test(model=ridge_pipe, params=params, target_variable=\"sporting\", pre_imputed=True)\n",
        "ridge_result"
      ]
    },
    {
      "cell_type": "code",
      "execution_count": null,
      "metadata": {
        "id": "bbNfudG-RRI7"
      },
      "outputs": [],
      "source": [
        "lasso_pipe = Pipeline([(\"scaler\", StandardScaler()),(\"estimator\", Lasso(random_state=100))])\n",
        "params = {\"estimator__alpha\": np.logspace(-5,1,num=50)}\n",
        "lasso_result = grid_search_and_test(model=lasso_pipe, params=params, target_variable=\"sporting\", pre_imputed=True)\n",
        "lasso_result"
      ]
    },
    {
      "cell_type": "code",
      "execution_count": null,
      "metadata": {
        "id": "pir9urbYRZPA"
      },
      "outputs": [],
      "source": [
        "lr_pipe = Pipeline([(\"scaler\", StandardScaler()),(\"estimator\", LinearRegression(n_jobs=-1))])\n",
        "params = {}\n",
        "lr_result = grid_search_and_test(model=lr_pipe, params=params, target_variable=\"sporting\", pre_imputed=True)\n",
        "lr_result"
      ]
    },
    {
      "cell_type": "markdown",
      "metadata": {
        "id": "bs8eUOHJZBnY"
      },
      "source": [
        "Desicion Tree Classifier and Random forest Classifier\n"
      ]
    },
    {
      "cell_type": "markdown",
      "metadata": {
        "id": "yNMcpqQmk7th"
      },
      "source": [
        "For loneliness "
      ]
    },
    {
      "cell_type": "code",
      "execution_count": null,
      "metadata": {
        "id": "Fc5tarCyK0PC"
      },
      "outputs": [],
      "source": [
        "from sklearn import tree\n",
        "from sklearn.tree import DecisionTreeRegressor\n",
        "from sklearn.ensemble import RandomForestRegressor\n",
        "from typing import List"
      ]
    },
    {
      "cell_type": "code",
      "execution_count": null,
      "metadata": {
        "colab": {
          "base_uri": "https://localhost:8080/"
        },
        "id": "AkSX0mvVKi7g",
        "outputId": "4475a767-22fe-424d-9a96-f2a454656376"
      },
      "outputs": [
        {
          "metadata": {
            "tags": null
          },
          "name": "stdout",
          "output_type": "stream",
          "text": [
            "Fitting 5 folds for each of 25000 candidates, totalling 125000 fits\n"
          ]
        }
      ],
      "source": [
        "tree = Pipeline([(\"scaler\", StandardScaler()),(\"estimator\", DecisionTreeRegressor())])\n",
        "params = {\"estimator__max_depth\": np.linspace(2, 30, num=20,dtype=int),\n",
        "          \"estimator__max_leaf_nodes\":np.linspace(2,50,num=20,dtype=int),\n",
        "          \"estimator__max_features\": np.linspace(0.05,1,num=20)}\n",
        "tree_result = grid_search_and_test(model=tree, params=params, target_variable=\"loneliness\", pre_imputed=True)\n",
        "tree_result"
      ]
    },
    {
      "cell_type": "code",
      "execution_count": null,
      "metadata": {
        "id": "RZSF_mZJk_c-"
      },
      "outputs": [],
      "source": [
        "forest = Pipeline([(\"scaler\", StandardScaler()),(\"estimator\", RandomForestRegressor())])\n",
        "params = {\"estimator__max_depth\": np.linspace(2, 30, num=20,dtype=int),\n",
        "          \"estimator__max_leaf_nodes\":np.linspace(2,50,num=20,dtype=int),\n",
        "          \"estimator__max_features\": np.linspace(0.05,1,num=20)}\n",
        "forest_result = grid_search_and_test(model=forest, params=params, target_variable=\"loneliness\", pre_imputed=True)\n",
        "forest_result"
      ]
    },
    {
      "cell_type": "markdown",
      "metadata": {
        "id": "0x3cY1c_lfZo"
      },
      "source": [
        "For sporting"
      ]
    },
    {
      "cell_type": "code",
      "execution_count": null,
      "metadata": {
        "id": "Z4UEEd53lhW0"
      },
      "outputs": [],
      "source": [
        "tree = Pipeline([(\"scaler\", StandardScaler()),(\"estimator\", DecisionTreeRegressor())])\n",
        "params = {\"estimator__max_depth\": np.linspace(2, 30, num=25,dtype=int),\n",
        "          \"estimator__max_leaf_nodes\":np.linspace(2,50,num=40,dtype=int),\n",
        "          \"estimator__max_features\": np.linspace(0.05,1,num=25)}\n",
        "tree_result = grid_search_and_test(model=tree, params=params, target_variable=\"sporting\", pre_imputed=True)\n",
        "tree_result"
      ]
    },
    {
      "cell_type": "code",
      "execution_count": null,
      "metadata": {
        "id": "InLLG_eclkoU"
      },
      "outputs": [],
      "source": [
        "forest = Pipeline([(\"scaler\", StandardScaler()),(\"estimator\", RandomForestRegressor(max_depth=5))])\n",
        "params = {\"estimator__max_depth\": np.linspace(2, 30, num=25,dtype=int),\n",
        "          \"estimator__max_leaf_nodes\":np.linspace(2,50,num=40,dtype=int),\n",
        "          \"estimator__max_features\": np.linspace(0.05,1,num=25)}\n",
        "forest_result = grid_search_and_test(model=forest, params=params, target_variable=\"sporting\", pre_imputed=True)\n",
        "forest_result"
      ]
    }
  ],
  "metadata": {
    "colab": {
      "provenance": [],
      "include_colab_link": true
    },
    "kernelspec": {
      "display_name": "Python 3 (ipykernel)",
      "language": "python",
      "name": "python3"
    },
    "language_info": {
      "codemirror_mode": {
        "name": "ipython",
        "version": 3
      },
      "file_extension": ".py",
      "mimetype": "text/x-python",
      "name": "python",
      "nbconvert_exporter": "python",
      "pygments_lexer": "ipython3",
      "version": "3.11.1"
    },
    "vscode": {
      "interpreter": {
        "hash": "e0e68e1905cf76410184eff3c32cdb9c73fe6afd1987724612fb8659e31ade06"
      }
    }
  },
  "nbformat": 4,
  "nbformat_minor": 0
}